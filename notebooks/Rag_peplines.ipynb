{
 "cells": [
  {
   "cell_type": "markdown",
   "id": "5911aef0",
   "metadata": {},
   "source": [
    "# Task 3: Building the RAG Core Logic and Evaluation\n"
   ]
  },
  {
   "cell_type": "code",
   "execution_count": 25,
   "id": "c565d7a0",
   "metadata": {},
   "outputs": [],
   "source": [
    "# import dependencies \n",
    "import pandas as pd\n",
    "from pathlib import Path\n",
    "from langchain_community.vectorstores import FAISS\n",
    "from sentence_transformers import SentenceTransformer\n",
    "from transformers import pipeline\n",
    "from langchain.docstore.document import Document\n",
    "import pickle\n"
   ]
  },
  {
   "cell_type": "markdown",
   "id": "1b358ab5",
   "metadata": {},
   "source": [
    "## loading of vector store"
   ]
  },
  {
   "cell_type": "code",
   "execution_count": 26,
   "id": "492f4e17",
   "metadata": {},
   "outputs": [],
   "source": [
    "# Set up paths\n",
    "VECTOR_STORE_PATH = Path('F:/Intelligent_Complaint_Analysis/data')\n",
    "VECTOR_STORE_FILE = VECTOR_STORE_PATH / 'faiss_index'\n",
    "EMBEDDING_MODEL_FILE = VECTOR_STORE_PATH / 'embedding_model.pkl'\n"
   ]
  },
  {
   "cell_type": "code",
   "execution_count": 27,
   "id": "3a9fe7df",
   "metadata": {},
   "outputs": [
    {
     "name": "stdout",
     "output_type": "stream",
     "text": [
      "Loading embedding model...\n"
     ]
    }
   ],
   "source": [
    "\n",
    "# Load embedding model\n",
    "print(\"Loading embedding model...\")\n",
    "with open(EMBEDDING_MODEL_FILE, 'rb') as f:\n",
    "    embedding_model = pickle.load(f)\n"
   ]
  },
  {
   "cell_type": "code",
   "execution_count": null,
   "id": "3b486eaf",
   "metadata": {},
   "outputs": [
    {
     "name": "stdout",
     "output_type": "stream",
     "text": [
      "Loading vector store...\n"
     ]
    }
   ],
   "source": [
    "\n",
    "# Load vector store\n",
    "print(\"Loading vector store...\")\n",
    "vector_store = FAISS.load_local(VECTOR_STORE_FILE, embeddings=embedding_model, allow_dangerous_deserialization=True)"
   ]
  },
  {
   "cell_type": "markdown",
   "id": "32dd5613",
   "metadata": {},
   "source": [
    "## Initialize LLM"
   ]
  },
  {
   "cell_type": "code",
   "execution_count": null,
   "id": "870c1a5c",
   "metadata": {},
   "outputs": [
    {
     "name": "stdout",
     "output_type": "stream",
     "text": [
      "Loading language model...\n"
     ]
    },
    {
     "name": "stderr",
     "output_type": "stream",
     "text": [
      "Xet Storage is enabled for this repo, but the 'hf_xet' package is not installed. Falling back to regular HTTP download. For better performance, install the package with: `pip install huggingface_hub[hf_xet]` or `pip install hf_xet`\n",
      "Device set to use cpu\n"
     ]
    }
   ],
   "source": [
    "# Initialize LLM (using distilgpt2 for lightweight demo; replace with stronger model if available)\n",
    "print(\"Loading language model...\")\n",
    "llm = pipeline('text-generation', model='distilgpt2', max_new_tokens=150, truncation=True)"
   ]
  },
  {
   "cell_type": "markdown",
   "id": "55fd7e40",
   "metadata": {},
   "source": []
  },
  {
   "cell_type": "code",
   "execution_count": 23,
   "id": "f952c293",
   "metadata": {},
   "outputs": [],
   "source": [
    "# Add the parent directory to the system path\n",
    "import os\n",
    "import sys\n",
    "sys.path.append(os.path.abspath(os.path.join(os.getcwd(), '..')))"
   ]
  },
  {
   "cell_type": "markdown",
   "id": "280159d6",
   "metadata": {},
   "source": [
    "## Prompt template engineering "
   ]
  },
  {
   "cell_type": "code",
   "execution_count": null,
   "id": "6a7cc188",
   "metadata": {},
   "outputs": [],
   "source": [
    "# Prompt template\n",
    "PROMPT_TEMPLATE = \"\"\"You are a financial analyst assistant for CrediTrust. Your task is to answer questions about customer complaints based only on the provided context. If the context doesn't contain enough information to answer the question, state that clearly and do not make assumptions. Provide a concise and accurate answer.\n",
    "\n",
    "Context:\n",
    "{context}\n",
    "\n",
    "Question:\n",
    "{question}\n",
    "\n",
    "Answer:\n",
    "\"\"\""
   ]
  },
  {
   "cell_type": "markdown",
   "id": "e67053f6",
   "metadata": {},
   "source": [
    "## Evaluation Question "
   ]
  },
  {
   "cell_type": "code",
   "execution_count": 9,
   "id": "f5ae868d",
   "metadata": {},
   "outputs": [],
   "source": [
    "# Evaluation questions\n",
    "eval_questions = [\n",
    "    \"What are common issues with credit card complaints?\",\n",
    "    \"How do consumers describe problems with Buy Now, Pay Later services?\",\n",
    "    \"Are there any complaints about unauthorized transactions in money transfers?\",\n",
    "    \"What fees are mentioned in savings account complaints?\",\n",
    "    \"What are typical delays reported in personal loan processing?\"\n",
    "]"
   ]
  },
  {
   "cell_type": "markdown",
   "id": "a012de65",
   "metadata": {},
   "source": [
    "# Run Evaluation "
   ]
  },
  {
   "cell_type": "code",
   "execution_count": null,
   "id": "3cbefde8",
   "metadata": {},
   "outputs": [
    {
     "name": "stderr",
     "output_type": "stream",
     "text": [
      "Setting `pad_token_id` to `eos_token_id`:50256 for open-end generation.\n",
      "Setting `pad_token_id` to `eos_token_id`:50256 for open-end generation.\n",
      "Setting `pad_token_id` to `eos_token_id`:50256 for open-end generation.\n",
      "Setting `pad_token_id` to `eos_token_id`:50256 for open-end generation.\n",
      "Setting `pad_token_id` to `eos_token_id`:50256 for open-end generation.\n"
     ]
    }
   ],
   "source": [
    "from src.rag_peplines import rag_pipeline\n",
    "# Run evaluation\n",
    "evaluation_results = []\n",
    "for question in eval_questions:\n",
    "    result = rag_pipeline(question)\n",
    "    # For simplicity, assume a manual quality score (1-5) based on relevance and coherence\n",
    "    # In practice, you'd evaluate based on ground truth or human judgment\n",
    "    evaluation_results.append({\n",
    "        'question': question,\n",
    "        'answer': result['answer'],\n",
    "        'retrieved_sources': [\n",
    "            {\n",
    "                'complaint_id': doc.metadata['complaint_id'],\n",
    "                'product': doc.metadata['product'],\n",
    "                'text': doc.page_content[:100] + \"...\" if len(doc.page_content) > 100 else doc.page_content\n",
    "            } for doc in result['retrieved_docs'][:2]  # Show top 2 sources\n",
    "        ],\n",
    "        'quality_score': 3,  # Placeholder; adjust based on manual review\n",
    "        'comments': \"Placeholder: Evaluate coherence and relevance manually.\"\n",
    "    })"
   ]
  },
  {
   "cell_type": "code",
   "execution_count": 20,
   "id": "b45ababc",
   "metadata": {},
   "outputs": [
    {
     "name": "stdout",
     "output_type": "stream",
     "text": [
      "Evaluation results saved to evaluation_results.csv\n"
     ]
    }
   ],
   "source": [
    "# Save evaluation results as a CSV for reporting\n",
    "eval_df = pd.DataFrame(evaluation_results)\n",
    "#eval_df.to_csv('F:/Intelligent_Complaint_Analysis/data/evaluation_results.csv', index=False)\n",
    "print(\"Evaluation results saved to evaluation_results.csv\")"
   ]
  },
  {
   "cell_type": "markdown",
   "id": "bd374697",
   "metadata": {},
   "source": [
    "# OUTPUT "
   ]
  },
  {
   "cell_type": "code",
   "execution_count": 21,
   "id": "3dcd6ede",
   "metadata": {},
   "outputs": [
    {
     "data": {
      "text/html": [
       "<div>\n",
       "<style scoped>\n",
       "    .dataframe tbody tr th:only-of-type {\n",
       "        vertical-align: middle;\n",
       "    }\n",
       "\n",
       "    .dataframe tbody tr th {\n",
       "        vertical-align: top;\n",
       "    }\n",
       "\n",
       "    .dataframe thead th {\n",
       "        text-align: right;\n",
       "    }\n",
       "</style>\n",
       "<table border=\"1\" class=\"dataframe\">\n",
       "  <thead>\n",
       "    <tr style=\"text-align: right;\">\n",
       "      <th></th>\n",
       "      <th>question</th>\n",
       "      <th>answer</th>\n",
       "      <th>retrieved_sources</th>\n",
       "      <th>quality_score</th>\n",
       "      <th>comments</th>\n",
       "    </tr>\n",
       "  </thead>\n",
       "  <tbody>\n",
       "    <tr>\n",
       "      <th>0</th>\n",
       "      <td>What are common issues with credit card compla...</td>\n",
       "      <td>1. The issue is not resolved by their credit c...</td>\n",
       "      <td>[{'complaint_id': 'f90ada6e-6d82-4805-ad95-076...</td>\n",
       "      <td>3</td>\n",
       "      <td>Placeholder: Evaluate coherence and relevance ...</td>\n",
       "    </tr>\n",
       "    <tr>\n",
       "      <th>1</th>\n",
       "      <td>How do consumers describe problems with Buy No...</td>\n",
       "      <td>I don't know. I don't know. I don't know. I do...</td>\n",
       "      <td>[{'complaint_id': '82ecdb40-7a0f-4df3-83b0-1e0...</td>\n",
       "      <td>3</td>\n",
       "      <td>Placeholder: Evaluate coherence and relevance ...</td>\n",
       "    </tr>\n",
       "    <tr>\n",
       "      <th>2</th>\n",
       "      <td>Are there any complaints about unauthorized tr...</td>\n",
       "      <td>Yes i have been asked so far but they have not...</td>\n",
       "      <td>[{'complaint_id': '3e821f9a-112a-499f-8ac5-0e4...</td>\n",
       "      <td>3</td>\n",
       "      <td>Placeholder: Evaluate coherence and relevance ...</td>\n",
       "    </tr>\n",
       "    <tr>\n",
       "      <th>3</th>\n",
       "      <td>What fees are mentioned in savings account com...</td>\n",
       "      <td>What are the fees for account holders?\\nAnswer...</td>\n",
       "      <td>[{'complaint_id': '49abdcb5-5719-4d62-a162-19d...</td>\n",
       "      <td>3</td>\n",
       "      <td>Placeholder: Evaluate coherence and relevance ...</td>\n",
       "    </tr>\n",
       "    <tr>\n",
       "      <th>4</th>\n",
       "      <td>What are typical delays reported in personal l...</td>\n",
       "      <td>What is typical delay reported in personal loa...</td>\n",
       "      <td>[{'complaint_id': '36ae68ca-7661-4603-8fd0-553...</td>\n",
       "      <td>3</td>\n",
       "      <td>Placeholder: Evaluate coherence and relevance ...</td>\n",
       "    </tr>\n",
       "  </tbody>\n",
       "</table>\n",
       "</div>"
      ],
      "text/plain": [
       "                                            question  \\\n",
       "0  What are common issues with credit card compla...   \n",
       "1  How do consumers describe problems with Buy No...   \n",
       "2  Are there any complaints about unauthorized tr...   \n",
       "3  What fees are mentioned in savings account com...   \n",
       "4  What are typical delays reported in personal l...   \n",
       "\n",
       "                                              answer  \\\n",
       "0  1. The issue is not resolved by their credit c...   \n",
       "1  I don't know. I don't know. I don't know. I do...   \n",
       "2  Yes i have been asked so far but they have not...   \n",
       "3  What are the fees for account holders?\\nAnswer...   \n",
       "4  What is typical delay reported in personal loa...   \n",
       "\n",
       "                                   retrieved_sources  quality_score  \\\n",
       "0  [{'complaint_id': 'f90ada6e-6d82-4805-ad95-076...              3   \n",
       "1  [{'complaint_id': '82ecdb40-7a0f-4df3-83b0-1e0...              3   \n",
       "2  [{'complaint_id': '3e821f9a-112a-499f-8ac5-0e4...              3   \n",
       "3  [{'complaint_id': '49abdcb5-5719-4d62-a162-19d...              3   \n",
       "4  [{'complaint_id': '36ae68ca-7661-4603-8fd0-553...              3   \n",
       "\n",
       "                                            comments  \n",
       "0  Placeholder: Evaluate coherence and relevance ...  \n",
       "1  Placeholder: Evaluate coherence and relevance ...  \n",
       "2  Placeholder: Evaluate coherence and relevance ...  \n",
       "3  Placeholder: Evaluate coherence and relevance ...  \n",
       "4  Placeholder: Evaluate coherence and relevance ...  "
      ]
     },
     "metadata": {},
     "output_type": "display_data"
    }
   ],
   "source": [
    "display(eval_df)"
   ]
  },
  {
   "cell_type": "code",
   "execution_count": 24,
   "id": "0bab20e8",
   "metadata": {},
   "outputs": [
    {
     "data": {
      "text/html": [
       "<div>\n",
       "<style scoped>\n",
       "    .dataframe tbody tr th:only-of-type {\n",
       "        vertical-align: middle;\n",
       "    }\n",
       "\n",
       "    .dataframe tbody tr th {\n",
       "        vertical-align: top;\n",
       "    }\n",
       "\n",
       "    .dataframe thead th {\n",
       "        text-align: right;\n",
       "    }\n",
       "</style>\n",
       "<table border=\"1\" class=\"dataframe\">\n",
       "  <thead>\n",
       "    <tr style=\"text-align: right;\">\n",
       "      <th></th>\n",
       "      <th>question</th>\n",
       "      <th>answer</th>\n",
       "      <th>retrieved_sources</th>\n",
       "      <th>quality_score</th>\n",
       "      <th>comments</th>\n",
       "    </tr>\n",
       "  </thead>\n",
       "  <tbody>\n",
       "    <tr>\n",
       "      <th>0</th>\n",
       "      <td>What are common issues with credit card compla...</td>\n",
       "      <td>1. The issue is not resolved by their credit c...</td>\n",
       "      <td>[{'complaint_id': 'f90ada6e-6d82-4805-ad95-076...</td>\n",
       "      <td>3</td>\n",
       "      <td>Placeholder: Evaluate coherence and relevance ...</td>\n",
       "    </tr>\n",
       "    <tr>\n",
       "      <th>1</th>\n",
       "      <td>How do consumers describe problems with Buy No...</td>\n",
       "      <td>I don't know. I don't know. I don't know. I do...</td>\n",
       "      <td>[{'complaint_id': '82ecdb40-7a0f-4df3-83b0-1e0...</td>\n",
       "      <td>3</td>\n",
       "      <td>Placeholder: Evaluate coherence and relevance ...</td>\n",
       "    </tr>\n",
       "    <tr>\n",
       "      <th>2</th>\n",
       "      <td>Are there any complaints about unauthorized tr...</td>\n",
       "      <td>Yes i have been asked so far but they have not...</td>\n",
       "      <td>[{'complaint_id': '3e821f9a-112a-499f-8ac5-0e4...</td>\n",
       "      <td>3</td>\n",
       "      <td>Placeholder: Evaluate coherence and relevance ...</td>\n",
       "    </tr>\n",
       "    <tr>\n",
       "      <th>3</th>\n",
       "      <td>What fees are mentioned in savings account com...</td>\n",
       "      <td>What are the fees for account holders?\\nAnswer...</td>\n",
       "      <td>[{'complaint_id': '49abdcb5-5719-4d62-a162-19d...</td>\n",
       "      <td>3</td>\n",
       "      <td>Placeholder: Evaluate coherence and relevance ...</td>\n",
       "    </tr>\n",
       "    <tr>\n",
       "      <th>4</th>\n",
       "      <td>What are typical delays reported in personal l...</td>\n",
       "      <td>What is typical delay reported in personal loa...</td>\n",
       "      <td>[{'complaint_id': '36ae68ca-7661-4603-8fd0-553...</td>\n",
       "      <td>3</td>\n",
       "      <td>Placeholder: Evaluate coherence and relevance ...</td>\n",
       "    </tr>\n",
       "  </tbody>\n",
       "</table>\n",
       "</div>"
      ],
      "text/plain": [
       "                                            question  \\\n",
       "0  What are common issues with credit card compla...   \n",
       "1  How do consumers describe problems with Buy No...   \n",
       "2  Are there any complaints about unauthorized tr...   \n",
       "3  What fees are mentioned in savings account com...   \n",
       "4  What are typical delays reported in personal l...   \n",
       "\n",
       "                                              answer  \\\n",
       "0  1. The issue is not resolved by their credit c...   \n",
       "1  I don't know. I don't know. I don't know. I do...   \n",
       "2  Yes i have been asked so far but they have not...   \n",
       "3  What are the fees for account holders?\\nAnswer...   \n",
       "4  What is typical delay reported in personal loa...   \n",
       "\n",
       "                                   retrieved_sources  quality_score  \\\n",
       "0  [{'complaint_id': 'f90ada6e-6d82-4805-ad95-076...              3   \n",
       "1  [{'complaint_id': '82ecdb40-7a0f-4df3-83b0-1e0...              3   \n",
       "2  [{'complaint_id': '3e821f9a-112a-499f-8ac5-0e4...              3   \n",
       "3  [{'complaint_id': '49abdcb5-5719-4d62-a162-19d...              3   \n",
       "4  [{'complaint_id': '36ae68ca-7661-4603-8fd0-553...              3   \n",
       "\n",
       "                                            comments  \n",
       "0  Placeholder: Evaluate coherence and relevance ...  \n",
       "1  Placeholder: Evaluate coherence and relevance ...  \n",
       "2  Placeholder: Evaluate coherence and relevance ...  \n",
       "3  Placeholder: Evaluate coherence and relevance ...  \n",
       "4  Placeholder: Evaluate coherence and relevance ...  "
      ]
     },
     "metadata": {},
     "output_type": "display_data"
    }
   ],
   "source": [
    "display(eval_df)"
   ]
  }
 ],
 "metadata": {
  "kernelspec": {
   "display_name": "week6",
   "language": "python",
   "name": "python3"
  },
  "language_info": {
   "codemirror_mode": {
    "name": "ipython",
    "version": 3
   },
   "file_extension": ".py",
   "mimetype": "text/x-python",
   "name": "python",
   "nbconvert_exporter": "python",
   "pygments_lexer": "ipython3",
   "version": "3.12.0"
  }
 },
 "nbformat": 4,
 "nbformat_minor": 5
}
